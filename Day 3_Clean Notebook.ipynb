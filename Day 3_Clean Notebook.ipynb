{
 "cells": [
  {
   "cell_type": "code",
   "execution_count": 1,
   "metadata": {},
   "outputs": [],
   "source": [
    "%matplotlib inline\n",
    "import warnings\n",
    "import kaggle\n",
    "import pandas as pd\n",
    "import numpy as np\n",
    "import matplotlib.pyplot as plt\n",
    "import seaborn as sns\n",
    "import category_encoders as ce\n",
    "from scipy.stats import randint\n",
    "from sklearn.ensemble import RandomForestClassifier\n",
    "from sklearn.preprocessing import StandardScaler, RobustScaler\n",
    "from sklearn.exceptions import DataConversionWarning\n",
    "from sklearn.model_selection import RandomizedSearchCV\n",
    "from sklearn.model_selection import cross_val_score\n",
    "from xgboost import XGBClassifier\n",
    "\n",
    "warnings.filterwarnings(action='ignore', category=DataConversionWarning)"
   ]
  },
  {
   "cell_type": "code",
   "execution_count": 2,
   "metadata": {},
   "outputs": [],
   "source": [
    "pd.set_option('display.max_rows', 500)\n",
    "pd.set_option('display.max_columns', 500)"
   ]
  },
  {
   "cell_type": "code",
   "execution_count": 50,
   "metadata": {},
   "outputs": [
    {
     "data": {
      "text/plain": [
       "((59400, 39), (14358, 39), (59400, 1))"
      ]
     },
     "execution_count": 50,
     "metadata": {},
     "output_type": "execute_result"
    }
   ],
   "source": [
    "# Import data\n",
    "test_features = pd.read_csv('test_features.csv')\n",
    "train_features = pd.read_csv('train_features.csv')\n",
    "train_labels = pd.read_csv('train_labels.csv')\n",
    "\n",
    "# assign to train, test, and submission\n",
    "X_train = train_features.drop(columns='id')\n",
    "X_test = test_features.drop(columns='id')\n",
    "y_train = train_labels.drop(columns='id')\n",
    "submission = test_features[['id']]\n",
    "\n",
    "X_train.shape, X_test.shape, y_train.shape"
   ]
  },
  {
   "cell_type": "code",
   "execution_count": 4,
   "metadata": {},
   "outputs": [],
   "source": [
    "def submission_csv(y_pred, file_name):\n",
    "    \"\"\"\n",
    "    Function to create csv file to be submitted to Kaggle.com\n",
    "    \n",
    "    Parameters\n",
    "    ----------\n",
    "    y_pred: a 1-D array of model predictions\n",
    "    file_name: name for new csv file as a string\n",
    "    \n",
    "    Returns\n",
    "    -------\n",
    "    A csv file in the current directory with a column for label id and predicted labels.\n",
    "    \"\"\"\n",
    "    y_pred = y_pred.copy()\n",
    "    submission['status_group'] = y_pred\n",
    "    submission.to_csv(file_name, index=False)"
   ]
  },
  {
   "cell_type": "code",
   "execution_count": 5,
   "metadata": {},
   "outputs": [],
   "source": [
    "# Example submission code\n",
    "# submit predictions to kaggle\n",
    "#!kaggle competitions submit -c ds3-predictive-modeling-challenge -f kaggle-submission-004.csv -m \"Kitchen sink model with hyper-parameter"
   ]
  },
  {
   "cell_type": "markdown",
   "metadata": {},
   "source": [
    "### Data Cleaning"
   ]
  },
  {
   "cell_type": "code",
   "execution_count": 6,
   "metadata": {},
   "outputs": [
    {
     "name": "stdout",
     "output_type": "stream",
     "text": [
      "['amount_tsh', 'gps_height', 'longitude', 'latitude', 'num_private', 'region_code', 'district_code', 'population', 'construction_year']\n",
      "\n",
      " ['date_recorded', 'funder', 'installer', 'wpt_name', 'basin', 'subvillage', 'region', 'lga', 'ward', 'public_meeting', 'recorded_by', 'scheme_management', 'scheme_name', 'permit', 'extraction_type', 'extraction_type_group', 'extraction_type_class', 'management', 'management_group', 'payment', 'payment_type', 'water_quality', 'quality_group', 'quantity', 'quantity_group', 'source', 'source_type', 'source_class', 'waterpoint_type', 'waterpoint_type_group']\n"
     ]
    }
   ],
   "source": [
    "numeric = X_train.select_dtypes(include='number').columns.tolist()\n",
    "categorical = X_train.select_dtypes(exclude='number').columns.tolist()\n",
    "\n",
    "print(numeric)\n",
    "print('\\n', categorical)"
   ]
  },
  {
   "cell_type": "code",
   "execution_count": 64,
   "metadata": {},
   "outputs": [],
   "source": [
    "def wrangle(X):\n",
    "    # Create copy of dataframe to avoid copy warning\n",
    "    X = X.copy()\n",
    "    \n",
    "    # Some features have missing data showing as 0 that need to be changed to nan\n",
    "    X['gps_height'] = X['gps_height'].replace(0.0, np.nan)\n",
    "    X['longitude'] = X['longitude'].replace(0.0, np.nan)\n",
    "    X['latitude'] = X['latitude'].replace(0.0, np.nan)\n",
    "    X['construction_year'] = X['construction_year'].replace(0.0, np.nan)\n",
    "    X['population'] = X['population'].replace(0.0, np.nan)\n",
    "    X['amount_tsh'] = X['amount_tsh'].replace(0.0, np.nan)\n",
    "    \n",
    "    # gps_height: replace nan values with the mean of the smallest geographical region possible\n",
    "    # Excluding subvillage due to missing values\n",
    "    X['gps_height'].fillna(X.groupby(['ward'])['gps_height'].transform('mean'), inplace=True)\n",
    "    X['gps_height'].fillna(X.groupby(['district_code'])['gps_height'].transform('mean'), inplace=True)\n",
    "    X['gps_height'].fillna(X.groupby(['region_code'])['gps_height'].transform('mean'), inplace=True)\n",
    "    X['gps_height'].fillna(X['gps_height'].mean(), inplace=True)\n",
    "    \n",
    "    # longitude: replace nan values with the mean of the smallest geographical region possible\n",
    "    # Excluding subvillage due to missing values\n",
    "    X['longitude'].fillna(X.groupby(['ward'])['longitude'].transform('mean'), inplace=True)\n",
    "    X['longitude'].fillna(X.groupby(['district_code'])['longitude'].transform('mean'), inplace=True)\n",
    "    X['longitude'].fillna(X.groupby(['region_code'])['longitude'].transform('mean'), inplace=True)\n",
    "    X['longitude'].fillna(X['longitude'].mean(), inplace=True)\n",
    "    \n",
    "    # latitude: replace nan values with the mean of the smallest geographical region possible\n",
    "    # Excluding subvillage due to missing values\n",
    "    X['latitude'].fillna(X.groupby(['ward'])['latitude'].transform('mean'), inplace=True)\n",
    "    X['latitude'].fillna(X.groupby(['district_code'])['latitude'].transform('mean'), inplace=True)\n",
    "    X['latitude'].fillna(X.groupby(['region_code'])['latitude'].transform('mean'), inplace=True)\n",
    "    X['latitude'].fillna(X['latitude'].mean(), inplace=True)\n",
    "    \n",
    "    # population: replace nan values with the mean of the smallest geographical region possible\n",
    "    # Excluding subvillage due to missing values\n",
    "    X['population'].fillna(X.groupby(['ward'])['population'].transform('median'), inplace=True)\n",
    "    X['population'].fillna(X.groupby(['district_code'])['population'].transform('median'), inplace=True)\n",
    "    X['population'].fillna(X.groupby(['region_code'])['population'].transform('median'), inplace=True)\n",
    "    X['population'].fillna(X['population'].median(), inplace=True)\n",
    "    \n",
    "    # population: replace nan values with the mean of the smallest geographical region possible\n",
    "    # Excluding subvillage due to missing values\n",
    "    X['amount_tsh'].fillna(X.groupby(['ward'])['amount_tsh'].transform('median'), inplace=True)\n",
    "    X['amount_tsh'].fillna(X.groupby(['district_code'])['amount_tsh'].transform('median'), inplace=True)\n",
    "    X['amount_tsh'].fillna(X.groupby(['region_code'])['amount_tsh'].transform('median'), inplace=True)\n",
    "    X['amount_tsh'].fillna(X['amount_tsh'].median(), inplace=True)\n",
    "    \n",
    "    # construction_year: replace nan values with the mean of the smallest geographical region possible\n",
    "    # Excluding subvillage due to missing values\n",
    "    X['construction_year'].fillna(X.groupby(['ward'])['construction_year'].transform('median'), inplace=True)\n",
    "    X['construction_year'].fillna(X.groupby(['district_code'])['construction_year'].transform('median'), inplace=True)\n",
    "    X['construction_year'].fillna(X.groupby(['region_code'])['construction_year'].transform('median'), inplace=True)\n",
    "    X['construction_year'].fillna(X['construction_year'].median(), inplace=True)\n",
    "    \n",
    "    # Convert date to datetime\n",
    "    X['date_recorded'] = pd.to_datetime(X['date_recorded'], infer_datetime_format=True)\n",
    "    \n",
    "    # Extract datetime data\n",
    "    X['year_recorded'] = X['date_recorded'].dt.year\n",
    "    \n",
    "    # Drop duplicate or unnecessary features\n",
    "    X = X.drop(columns=['recorded_by', 'quantity_group', 'date_recorded', 'wpt_name', 'num_private', 'subvillage',\n",
    "                       'region_code', 'district_code', 'management_group', 'extraction_type_group', 'extraction_type_class',\n",
    "                       'scheme_name', 'payment', 'water_quality', 'source_type', 'source_class', 'waterpoint_type_group',\n",
    "                       'ward', 'public_meeting', 'permit'])\n",
    "    \n",
    "    # Several categorical features have values showing as '0'\n",
    "    # Replace '0' with nan\n",
    "    categoricals = X.select_dtypes(exclude='number').columns.tolist()\n",
    "    X[categoricals] = X[categoricals].replace('0', np.nan)\n",
    "    \n",
    "    # Convert to lowercase to collapse duplicates\n",
    "    X['waterpoint_type'] = X['waterpoint_type'].str.lower()\n",
    "    X['funder'] = X['funder'].str.lower()\n",
    "    X['basin'] = X['basin'].str.lower()\n",
    "    X['region'] = X['region'].str.lower()\n",
    "    X['source'] = X['source'].str.lower()\n",
    "    X['lga'] = X['lga'].str.lower()\n",
    "    X['management'] = X['management'].str.lower()\n",
    "    X['quantity'] = X['quantity'].str.lower()\n",
    "    X['quality_group'] = X['quality_group'].str.lower()\n",
    "    X['payment_type'] = X['payment_type'].str.lower()\n",
    "    X['extraction_type'] = X['extraction_type'].str.lower()\n",
    "    \n",
    "    # Replace nan values with 'other'\n",
    "    X[\"funder\"].fillna(\"other\", inplace=True)\n",
    "    X[\"scheme_management\"].fillna(\"other\", inplace=True)\n",
    "    X[\"installer\"].fillna(\"other\", inplace=True)\n",
    "    \n",
    "    X = X.replace(np.nan, 'other')\n",
    "    \n",
    "    return X"
   ]
  },
  {
   "cell_type": "code",
   "execution_count": 52,
   "metadata": {},
   "outputs": [
    {
     "data": {
      "text/plain": [
       "((59400, 20), (14358, 20))"
      ]
     },
     "execution_count": 52,
     "metadata": {},
     "output_type": "execute_result"
    }
   ],
   "source": [
    "X_train_clean = wrangle(X_train)\n",
    "X_test_clean = wrangle(X_test)\n",
    "\n",
    "X_train_clean.shape, X_test_clean.shape"
   ]
  },
  {
   "cell_type": "markdown",
   "metadata": {},
   "source": [
    "### Feature engineering"
   ]
  },
  {
   "cell_type": "code",
   "execution_count": 63,
   "metadata": {},
   "outputs": [],
   "source": [
    "def feature_eng(X):\n",
    "    X = X.copy()\n",
    "    \n",
    "    # Engineered features from data exploration and cleaning notebook\n",
    "    X['amount_tsh_above_1000'] = X['amount_tsh'] > 1000\n",
    "    X['water_quality_good_and_seasonal'] = (X['quality_group'] == 'good') & (X['quantity'] == 'seasonal')\n",
    "    X['water_quality_good_and_dry'] = (X['quality_group'] == 'good') & (X['quantity'] == 'dry')\n",
    "    X['water_quality_good_and_insufficient'] = (X['quality_group'] == 'good') & (X['quantity'] == 'insufficient')\n",
    "    X['water_quality_good_and_enough'] = (X['quality_group'] == 'good') & (X['quantity'] == 'enough')\n",
    "    X['water_quality_good'] = X['quality_group'] == 'good'\n",
    "    \n",
    "    #Since some years show as 0, I'll have to manually clean up the new features\n",
    "    X['age'] = 2019 - X['construction_year']\n",
    "    X['years_since_inspection'] = 2019 - X['year_recorded']\n",
    "    \n",
    "    return X"
   ]
  },
  {
   "cell_type": "code",
   "execution_count": 54,
   "metadata": {},
   "outputs": [
    {
     "data": {
      "text/plain": [
       "((59400, 28), (14358, 28))"
      ]
     },
     "execution_count": 54,
     "metadata": {},
     "output_type": "execute_result"
    }
   ],
   "source": [
    "X_train_eng = feature_eng(X_train_clean)\n",
    "X_test_eng = feature_eng(X_test_clean)\n",
    "\n",
    "X_train_eng.shape, X_test_eng.shape"
   ]
  },
  {
   "cell_type": "markdown",
   "metadata": {},
   "source": [
    "### Feature scaling and encoding"
   ]
  },
  {
   "cell_type": "code",
   "execution_count": 55,
   "metadata": {
    "scrolled": true
   },
   "outputs": [],
   "source": [
    "scaler = RobustScaler()\n",
    "encoder = ce.OrdinalEncoder()\n",
    "\n",
    "X_train_encoded = encoder.fit_transform(X_train_eng)\n",
    "X_test_encoded = encoder.transform(X_test_eng)\n",
    "X_train_scaled = scaler.fit_transform(X_train_encoded)\n",
    "X_test_scaled = scaler.transform(X_test_encoded)"
   ]
  },
  {
   "cell_type": "code",
   "execution_count": 56,
   "metadata": {},
   "outputs": [
    {
     "data": {
      "text/plain": [
       "((59400, 28), (14358, 28))"
      ]
     },
     "execution_count": 56,
     "metadata": {},
     "output_type": "execute_result"
    }
   ],
   "source": [
    "X_train_scaled.shape, X_test_scaled.shape"
   ]
  },
  {
   "cell_type": "markdown",
   "metadata": {},
   "source": [
    "### Fit data to a model"
   ]
  },
  {
   "cell_type": "code",
   "execution_count": 29,
   "metadata": {},
   "outputs": [
    {
     "name": "stdout",
     "output_type": "stream",
     "text": [
      "Fitting 5 folds for each of 50 candidates, totalling 250 fits\n"
     ]
    },
    {
     "name": "stderr",
     "output_type": "stream",
     "text": [
      "[Parallel(n_jobs=-1)]: Using backend LokyBackend with 4 concurrent workers.\n",
      "[Parallel(n_jobs=-1)]: Done   5 tasks      | elapsed:  1.7min\n",
      "[Parallel(n_jobs=-1)]: Done  10 tasks      | elapsed:  2.8min\n",
      "[Parallel(n_jobs=-1)]: Done  17 tasks      | elapsed:  4.9min\n",
      "[Parallel(n_jobs=-1)]: Done  24 tasks      | elapsed:  6.9min\n",
      "[Parallel(n_jobs=-1)]: Done  33 tasks      | elapsed:  9.0min\n",
      "[Parallel(n_jobs=-1)]: Done  42 tasks      | elapsed: 10.5min\n",
      "[Parallel(n_jobs=-1)]: Done  53 tasks      | elapsed: 13.4min\n",
      "[Parallel(n_jobs=-1)]: Done  64 tasks      | elapsed: 15.8min\n",
      "[Parallel(n_jobs=-1)]: Done  77 tasks      | elapsed: 18.3min\n",
      "[Parallel(n_jobs=-1)]: Done  90 tasks      | elapsed: 20.9min\n",
      "[Parallel(n_jobs=-1)]: Done 105 tasks      | elapsed: 25.9min\n",
      "[Parallel(n_jobs=-1)]: Done 120 tasks      | elapsed: 28.8min\n",
      "[Parallel(n_jobs=-1)]: Done 137 tasks      | elapsed: 33.5min\n",
      "[Parallel(n_jobs=-1)]: Done 154 tasks      | elapsed: 37.8min\n",
      "[Parallel(n_jobs=-1)]: Done 173 tasks      | elapsed: 44.0min\n",
      "[Parallel(n_jobs=-1)]: Done 192 tasks      | elapsed: 47.4min\n",
      "[Parallel(n_jobs=-1)]: Done 213 tasks      | elapsed: 50.0min\n",
      "[Parallel(n_jobs=-1)]: Done 234 tasks      | elapsed: 53.5min\n",
      "[Parallel(n_jobs=-1)]: Done 250 out of 250 | elapsed: 60.0min finished\n"
     ]
    },
    {
     "data": {
      "text/plain": [
       "RandomizedSearchCV(cv=5, error_score='raise-deprecating',\n",
       "                   estimator=RandomForestClassifier(bootstrap=True,\n",
       "                                                    class_weight=None,\n",
       "                                                    criterion='gini',\n",
       "                                                    max_depth=6,\n",
       "                                                    max_features='auto',\n",
       "                                                    max_leaf_nodes=None,\n",
       "                                                    min_impurity_decrease=0.0,\n",
       "                                                    min_impurity_split=None,\n",
       "                                                    min_samples_leaf=1,\n",
       "                                                    min_samples_split=2,\n",
       "                                                    min_weight_fraction_leaf=0.0,\n",
       "                                                    n_estimators='warn',\n",
       "                                                    n_jobs=-1, oob_score=F...\n",
       "                                                    warm_start=False),\n",
       "                   iid='warn', n_iter=50, n_jobs=-1,\n",
       "                   param_distributions={'max_features': <scipy.stats._distn_infrastructure.rv_frozen object at 0x000001F8A552DC88>,\n",
       "                                        'n_estimators': <scipy.stats._distn_infrastructure.rv_frozen object at 0x000001F8A5528358>},\n",
       "                   pre_dispatch='2*n_jobs', random_state=42, refit=True,\n",
       "                   return_train_score=True, scoring='accuracy', verbose=10)"
      ]
     },
     "execution_count": 29,
     "metadata": {},
     "output_type": "execute_result"
    }
   ],
   "source": [
    "# Set parameters\n",
    "param_dist = {\n",
    "    'n_estimators': randint(100, 300),\n",
    "    'max_features': randint(2, 30)\n",
    "}\n",
    "\n",
    "# Create randomized search\n",
    "search = RandomizedSearchCV(\n",
    "    estimator=RandomForestClassifier(max_depth=6, n_jobs=-1, random_state=42),\n",
    "    param_distributions=param_dist,\n",
    "    n_iter=50,\n",
    "    scoring='accuracy',\n",
    "    n_jobs=-1,\n",
    "    cv=5,\n",
    "    verbose=10,\n",
    "    return_train_score=True,\n",
    "    random_state=42\n",
    ")\n",
    "\n",
    "# fit the model\n",
    "search.fit(X_train_scaled, y_train)"
   ]
  },
  {
   "cell_type": "code",
   "execution_count": 30,
   "metadata": {},
   "outputs": [
    {
     "data": {
      "text/plain": [
       "RandomForestClassifier(bootstrap=True, class_weight=None, criterion='gini',\n",
       "                       max_depth=6, max_features=4, max_leaf_nodes=None,\n",
       "                       min_impurity_decrease=0.0, min_impurity_split=None,\n",
       "                       min_samples_leaf=1, min_samples_split=2,\n",
       "                       min_weight_fraction_leaf=0.0, n_estimators=249,\n",
       "                       n_jobs=-1, oob_score=False, random_state=42, verbose=0,\n",
       "                       warm_start=False)"
      ]
     },
     "execution_count": 30,
     "metadata": {},
     "output_type": "execute_result"
    }
   ],
   "source": [
    "search.best_estimator_"
   ]
  },
  {
   "cell_type": "code",
   "execution_count": 31,
   "metadata": {},
   "outputs": [
    {
     "data": {
      "text/plain": [
       "0.7242760942760943"
      ]
     },
     "execution_count": 31,
     "metadata": {},
     "output_type": "execute_result"
    }
   ],
   "source": [
    "search.best_score_"
   ]
  },
  {
   "cell_type": "code",
   "execution_count": 32,
   "metadata": {},
   "outputs": [
    {
     "data": {
      "image/png": "[encoded data removed]",
      "text/plain": [
       "<Figure size 360x1800 with 1 Axes>"
      ]
     },
     "metadata": {
      "needs_background": "light"
     },
     "output_type": "display_data"
    }
   ],
   "source": [
    "best = search.best_estimator_\n",
    "n = len(X_train_encoded.columns)\n",
    "\n",
    "importances = pd.Series(best.feature_importances_, X_train_encoded.columns)\n",
    "top_n = importances.sort_values()[-n:]\n",
    "plt.figure(figsize=(5, 25))\n",
    "top_n.plot.barh(color='gray');"
   ]
  },
  {
   "cell_type": "code",
   "execution_count": 36,
   "metadata": {},
   "outputs": [
    {
     "name": "stderr",
     "output_type": "stream",
     "text": [
      "C:\\Users\\theta\\Anaconda3\\envs\\lambda\\lib\\site-packages\\ipykernel_launcher.py:15: SettingWithCopyWarning: \n",
      "A value is trying to be set on a copy of a slice from a DataFrame.\n",
      "Try using .loc[row_indexer,col_indexer] = value instead\n",
      "\n",
      "See the caveats in the documentation: http://pandas.pydata.org/pandas-docs/stable/indexing.html#indexing-view-versus-copy\n",
      "  from ipykernel import kernelapp as app\n"
     ]
    }
   ],
   "source": [
    "# Make predictions\n",
    "y_pred = best.predict(X_test_scaled)\n",
    "\n",
    "# Create kaggle submission csv\n",
    "submission_csv(y_pred, 'kaggle-submission-006.csv')"
   ]
  },
  {
   "cell_type": "markdown",
   "metadata": {},
   "source": [
    "### Run Model using max_depth=None"
   ]
  },
  {
   "cell_type": "code",
   "execution_count": 44,
   "metadata": {},
   "outputs": [
    {
     "name": "stdout",
     "output_type": "stream",
     "text": [
      "Fitting 3 folds for each of 50 candidates, totalling 150 fits\n"
     ]
    },
    {
     "name": "stderr",
     "output_type": "stream",
     "text": [
      "[Parallel(n_jobs=-1)]: Using backend LokyBackend with 4 concurrent workers.\n",
      "[Parallel(n_jobs=-1)]: Done   5 tasks      | elapsed:  1.8min\n",
      "[Parallel(n_jobs=-1)]: Done  10 tasks      | elapsed:  4.5min\n",
      "[Parallel(n_jobs=-1)]: Done  17 tasks      | elapsed:  7.1min\n",
      "[Parallel(n_jobs=-1)]: Done  24 tasks      | elapsed:  8.2min\n",
      "[Parallel(n_jobs=-1)]: Done  33 tasks      | elapsed: 13.0min\n",
      "[Parallel(n_jobs=-1)]: Done  42 tasks      | elapsed: 16.1min\n",
      "[Parallel(n_jobs=-1)]: Done  53 tasks      | elapsed: 22.3min\n",
      "[Parallel(n_jobs=-1)]: Done  64 tasks      | elapsed: 26.2min\n",
      "[Parallel(n_jobs=-1)]: Done  77 tasks      | elapsed: 30.5min\n",
      "[Parallel(n_jobs=-1)]: Done  90 tasks      | elapsed: 32.1min\n",
      "[Parallel(n_jobs=-1)]: Done 105 tasks      | elapsed: 35.8min\n",
      "[Parallel(n_jobs=-1)]: Done 120 tasks      | elapsed: 46.8min\n",
      "[Parallel(n_jobs=-1)]: Done 137 tasks      | elapsed: 53.5min\n",
      "[Parallel(n_jobs=-1)]: Done 150 out of 150 | elapsed: 56.5min finished\n"
     ]
    },
    {
     "data": {
      "text/plain": [
       "RandomizedSearchCV(cv=3, error_score='raise-deprecating',\n",
       "                   estimator=RandomForestClassifier(bootstrap=True,\n",
       "                                                    class_weight=None,\n",
       "                                                    criterion='gini',\n",
       "                                                    max_depth=None,\n",
       "                                                    max_features='auto',\n",
       "                                                    max_leaf_nodes=None,\n",
       "                                                    min_impurity_decrease=0.0,\n",
       "                                                    min_impurity_split=None,\n",
       "                                                    min_samples_leaf=1,\n",
       "                                                    min_samples_split=2,\n",
       "                                                    min_weight_fraction_leaf=0.0,\n",
       "                                                    n_estimators='warn',\n",
       "                                                    n_jobs=-1, oob_scor...\n",
       "                   iid='warn', n_iter=50, n_jobs=-1,\n",
       "                   param_distributions={'criterion': ['gini', 'entropy'],\n",
       "                                        'max_features': <scipy.stats._distn_infrastructure.rv_frozen object at 0x000001F8A0CA15C0>,\n",
       "                                        'n_estimators': <scipy.stats._distn_infrastructure.rv_frozen object at 0x000001F8A0CA1470>},\n",
       "                   pre_dispatch='2*n_jobs', random_state=42, refit=True,\n",
       "                   return_train_score=True, scoring='accuracy', verbose=10)"
      ]
     },
     "execution_count": 44,
     "metadata": {},
     "output_type": "execute_result"
    }
   ],
   "source": [
    "# Set parameters\n",
    "param_dist = {\n",
    "    'n_estimators': randint(50, 300),\n",
    "    'max_features': randint(3, 30),\n",
    "    'criterion': ['gini', 'entropy']\n",
    "}\n",
    "\n",
    "# Create randomized search\n",
    "search = RandomizedSearchCV(\n",
    "    estimator=RandomForestClassifier(n_jobs=-1, random_state=42, max_depth=None),\n",
    "    param_distributions=param_dist,\n",
    "    n_iter=50,\n",
    "    scoring='accuracy',\n",
    "    n_jobs=-1,\n",
    "    cv=3,\n",
    "    verbose=10,\n",
    "    return_train_score=True,\n",
    "    random_state=42\n",
    ")\n",
    "\n",
    "# fit the model\n",
    "search.fit(X_train_scaled, y_train)"
   ]
  },
  {
   "cell_type": "code",
   "execution_count": 46,
   "metadata": {},
   "outputs": [
    {
     "data": {
      "text/plain": [
       "0.8029292929292929"
      ]
     },
     "execution_count": 46,
     "metadata": {},
     "output_type": "execute_result"
    }
   ],
   "source": [
    "search.best_score_"
   ]
  },
  {
   "cell_type": "code",
   "execution_count": 48,
   "metadata": {},
   "outputs": [
    {
     "name": "stderr",
     "output_type": "stream",
     "text": [
      "C:\\Users\\theta\\Anaconda3\\envs\\lambda\\lib\\site-packages\\ipykernel_launcher.py:15: SettingWithCopyWarning: \n",
      "A value is trying to be set on a copy of a slice from a DataFrame.\n",
      "Try using .loc[row_indexer,col_indexer] = value instead\n",
      "\n",
      "See the caveats in the documentation: http://pandas.pydata.org/pandas-docs/stable/indexing.html#indexing-view-versus-copy\n",
      "  from ipykernel import kernelapp as app\n"
     ]
    }
   ],
   "source": [
    "best = search.best_estimator_\n",
    "\n",
    "# Make predictions\n",
    "y_pred = best.predict(X_test_scaled)\n",
    "\n",
    "# Make submission csv file\n",
    "submission_csv(y_pred, 'kaggle-submission-007.csv')"
   ]
  },
  {
   "cell_type": "code",
   "execution_count": 49,
   "metadata": {},
   "outputs": [
    {
     "name": "stdout",
     "output_type": "stream",
     "text": [
      "Successfully submitted to DS3 Predictive Modeling Challenge\n"
     ]
    },
    {
     "name": "stderr",
     "output_type": "stream",
     "text": [
      "\n",
      "  0%|          | 0.00/277k [00:00<?, ?B/s]\n",
      "  3%|2         | 8.00k/277k [00:00<00:09, 27.6kB/s]\n",
      " 29%|##8       | 80.0k/277k [00:00<00:05, 38.7kB/s]\n",
      " 38%|###7      | 104k/277k [00:00<00:03, 51.4kB/s] \n",
      " 46%|####6     | 128k/277k [00:00<00:02, 66.7kB/s]\n",
      "100%|##########| 277k/277k [00:03<00:00, 94.3kB/s]\n"
     ]
    }
   ],
   "source": [
    "# Submit predictions to Kaggle\n",
    "!kaggle competitions submit -c ds3-predictive-modeling-challenge -f kaggle-submission-007.csv -m \"RFC cleaned and w/ engineered features\""
   ]
  },
  {
   "cell_type": "markdown",
   "metadata": {},
   "source": [
    "### I made some changes to the wrangle function and feature_eng function. Re-running best estimator model with updates"
   ]
  },
  {
   "cell_type": "code",
   "execution_count": 45,
   "metadata": {},
   "outputs": [
    {
     "data": {
      "text/plain": [
       "RandomForestClassifier(bootstrap=True, class_weight=None, criterion='entropy',\n",
       "                       max_depth=None, max_features=4, max_leaf_nodes=None,\n",
       "                       min_impurity_decrease=0.0, min_impurity_split=None,\n",
       "                       min_samples_leaf=1, min_samples_split=2,\n",
       "                       min_weight_fraction_leaf=0.0, n_estimators=251,\n",
       "                       n_jobs=-1, oob_score=False, random_state=42, verbose=0,\n",
       "                       warm_start=False)"
      ]
     },
     "execution_count": 45,
     "metadata": {},
     "output_type": "execute_result"
    }
   ],
   "source": [
    "search.best_estimator_"
   ]
  },
  {
   "cell_type": "code",
   "execution_count": 57,
   "metadata": {},
   "outputs": [],
   "source": [
    "from sklearn.model_selection import train_test_split\n",
    "\n",
    "# Create train and validate sets\n",
    "X_train2, X_val, y_train2, y_val = train_test_split(X_train_scaled, y_train, test_size=0.2, random_state=42)"
   ]
  },
  {
   "cell_type": "code",
   "execution_count": 58,
   "metadata": {},
   "outputs": [
    {
     "data": {
      "text/plain": [
       "0.8053872053872054"
      ]
     },
     "execution_count": 58,
     "metadata": {},
     "output_type": "execute_result"
    }
   ],
   "source": [
    "from sklearn.metrics import accuracy_score\n",
    "\n",
    "# Set model params\n",
    "model = RandomForestClassifier(criterion='entropy', max_features=4, n_estimators=251, n_jobs=-1, random_state=42)\n",
    "\n",
    "# Fit the model\n",
    "model.fit(X_train2, y_train2)\n",
    "\n",
    "# Make Predictions\n",
    "y_pred = model.predict(X_val)\n",
    "\n",
    "# Check score\n",
    "score = accuracy_score(y_val, y_pred)\n",
    "score"
   ]
  },
  {
   "cell_type": "code",
   "execution_count": 60,
   "metadata": {
    "scrolled": true
   },
   "outputs": [
    {
     "name": "stderr",
     "output_type": "stream",
     "text": [
      "C:\\Users\\theta\\Anaconda3\\envs\\lambda\\lib\\site-packages\\ipykernel_launcher.py:15: SettingWithCopyWarning: \n",
      "A value is trying to be set on a copy of a slice from a DataFrame.\n",
      "Try using .loc[row_indexer,col_indexer] = value instead\n",
      "\n",
      "See the caveats in the documentation: http://pandas.pydata.org/pandas-docs/stable/indexing.html#indexing-view-versus-copy\n",
      "  from ipykernel import kernelapp as app\n"
     ]
    }
   ],
   "source": [
    "# Make predictions for Kaggle\n",
    "y_pred = model.predict(X_test_scaled)\n",
    "\n",
    "# Make csv file\n",
    "submission_csv(y_pred, 'kaggle-submission-008.csv')"
   ]
  },
  {
   "cell_type": "code",
   "execution_count": 65,
   "metadata": {},
   "outputs": [
    {
     "name": "stdout",
     "output_type": "stream",
     "text": [
      "Successfully submitted to DS3 Predictive Modeling Challenge\n"
     ]
    },
    {
     "name": "stderr",
     "output_type": "stream",
     "text": [
      "\n",
      "  0%|          | 0.00/279k [00:00<?, ?B/s]\n",
      "  3%|2         | 8.00k/279k [00:00<00:09, 28.0kB/s]\n",
      " 29%|##8       | 80.0k/279k [00:00<00:05, 39.3kB/s]\n",
      " 37%|###7      | 104k/279k [00:00<00:03, 52.3kB/s] \n",
      " 72%|#######1  | 200k/279k [00:00<00:01, 73.0kB/s]\n",
      "100%|##########| 279k/279k [00:02<00:00, 120kB/s] \n"
     ]
    }
   ],
   "source": [
    "# Submit to Kaggle\n",
    "!kaggle competitions submit -c ds3-predictive-modeling-challenge -f kaggle-submission-008.csv -m \"RFC best_estimator_ with tweaks to cleaning and feature engineering functions\""
   ]
  },
  {
   "cell_type": "markdown",
   "metadata": {},
   "source": [
    "### An attempt at stacking"
   ]
  },
  {
   "cell_type": "code",
   "execution_count": 62,
   "metadata": {},
   "outputs": [],
   "source": [
    "# Filenames of your submissions you want to ensemble\n",
    "files = ['kaggle-submission-001.csv', 'kaggle-submission-002.csv', 'kaggle-submission-003.csv', 'kaggle-submission-004.csv', \n",
    "         'kaggle-submission-005.csv', 'kaggle-submission-006.csv', 'kaggle-submission-007.csv', 'kaggle-submission-008.csv']\n",
    "\n",
    "submissions = (pd.read_csv(file)[['status_group']] for file in files)\n",
    "ensemble = pd.concat(submissions, axis='columns')\n",
    "majority_vote = ensemble.mode(axis='columns')[0]\n",
    "\n",
    "sample_submission = pd.read_csv('sample_submission.csv')\n",
    "submission = sample_submission.copy()\n",
    "submission['status_group'] = majority_vote\n",
    "submission.to_csv('my-ultimate-ensemble-submission.csv', index=False)"
   ]
  },
  {
   "cell_type": "code",
   "execution_count": 66,
   "metadata": {},
   "outputs": [
    {
     "name": "stdout",
     "output_type": "stream",
     "text": [
      "Successfully submitted to DS3 Predictive Modeling Challenge\n"
     ]
    },
    {
     "name": "stderr",
     "output_type": "stream",
     "text": [
      "\n",
      "  0%|          | 0.00/263k [00:00<?, ?B/s]\n",
      "  3%|3         | 8.00k/263k [00:00<00:08, 31.6kB/s]\n",
      " 30%|###       | 80.0k/263k [00:00<00:04, 44.4kB/s]\n",
      " 40%|###9      | 104k/263k [00:00<00:02, 58.1kB/s] \n",
      " 70%|######9   | 184k/263k [00:00<00:01, 80.5kB/s]\n",
      "100%|##########| 263k/263k [00:02<00:00, 104kB/s] \n"
     ]
    }
   ],
   "source": [
    "# Submit to Kaggle\n",
    "!kaggle competitions submit -c ds3-predictive-modeling-challenge -f my-ultimate-ensemble-submission.csv -m \"1st attempt at stacking\""
   ]
  }
 ],
 "metadata": {
  "kernelspec": {
   "display_name": "Python [conda env:lambda] *",
   "language": "python",
   "name": "conda-env-lambda-py"
  },
  "language_info": {
   "codemirror_mode": {
    "name": "ipython",
    "version": 3
   },
   "file_extension": ".py",
   "mimetype": "text/x-python",
   "name": "python",
   "nbconvert_exporter": "python",
   "pygments_lexer": "ipython3",
   "version": "3.7.3"
  }
 },
 "nbformat": 4,
 "nbformat_minor": 2
}
