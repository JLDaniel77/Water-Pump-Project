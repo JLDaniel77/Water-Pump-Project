{
 "cells": [
  {
   "cell_type": "code",
   "execution_count": 18,
   "metadata": {},
   "outputs": [],
   "source": [
    "%matplotlib inline\n",
    "import warnings\n",
    "import pandas as pd\n",
    "import numpy as np\n",
    "import matplotlib.pyplot as plt\n",
    "import seaborn as sns\n",
    "import category_encoders as ce\n",
    "from sklearn.model_selection import train_test_split\n",
    "from sklearn.ensemble import RandomForestClassifier\n",
    "from sklearn.exceptions import DataConversionWarning\n",
    "from sklearn.metrics import accuracy_score\n",
    "\n",
    "warnings.filterwarnings(action='ignore', category=DataConversionWarning)"
   ]
  },
  {
   "cell_type": "code",
   "execution_count": 2,
   "metadata": {},
   "outputs": [],
   "source": [
    "pd.set_option('display.max_rows', 500)\n",
    "pd.set_option('display.max_columns', 500)"
   ]
  },
  {
   "cell_type": "code",
   "execution_count": 3,
   "metadata": {},
   "outputs": [
    {
     "data": {
      "text/plain": [
       "((59400, 39), (14358, 39), (59400, 1))"
      ]
     },
     "execution_count": 3,
     "metadata": {},
     "output_type": "execute_result"
    }
   ],
   "source": [
    "# Import data\n",
    "test_features = pd.read_csv('test_features.csv')\n",
    "train_features = pd.read_csv('train_features.csv')\n",
    "train_labels = pd.read_csv('train_labels.csv')\n",
    "\n",
    "# assign to train, test, and submission\n",
    "X_train = train_features.drop(columns='id')\n",
    "X_test = test_features.drop(columns='id')\n",
    "y_train = train_labels.drop(columns='id')\n",
    "submission = test_features[['id']]\n",
    "\n",
    "X_train.shape, X_test.shape, y_train.shape"
   ]
  },
  {
   "cell_type": "code",
   "execution_count": 7,
   "metadata": {},
   "outputs": [
    {
     "data": {
      "text/plain": [
       "((45042, 39), (14358, 39), (45042, 1), (14358, 1))"
      ]
     },
     "execution_count": 7,
     "metadata": {},
     "output_type": "execute_result"
    }
   ],
   "source": [
    "# Split training data into train, validate. Make the validation set the same shape of the test set.\n",
    "X_train, X_val, y_train, y_val = train_test_split(X_train, y_train, test_size=len(X_test), stratify=y_train, random_state=42)\n",
    "X_train.shape, X_val.shape, y_train.shape, y_val.shape"
   ]
  },
  {
   "cell_type": "markdown",
   "metadata": {},
   "source": [
    "### Data cleaning, feature engineering, and categorical encoding"
   ]
  },
  {
   "cell_type": "code",
   "execution_count": 8,
   "metadata": {},
   "outputs": [],
   "source": [
    "def wrangle(X):\n",
    "    # Create copy of dataframe to avoid copy warning\n",
    "    X = X.copy()\n",
    "    \n",
    "    # Some features have missing data showing as 0 that need to be changed to nan\n",
    "    X['gps_height'] = X['gps_height'].replace(0.0, np.nan)\n",
    "    X['longitude'] = X['longitude'].replace(0.0, np.nan)\n",
    "    X['latitude'] = X['latitude'].replace(0.0, np.nan)\n",
    "    X['construction_year'] = X['construction_year'].replace(0.0, np.nan)\n",
    "    X['population'] = X['population'].replace(0.0, np.nan)\n",
    "    X['amount_tsh'] = X['amount_tsh'].replace(0.0, np.nan)\n",
    "    \n",
    "    # gps_height: replace nan values with the mean of the smallest geographical region possible\n",
    "    # Excluding subvillage due to missing values\n",
    "    X['gps_height'].fillna(X.groupby(['ward'])['gps_height'].transform('mean'), inplace=True)\n",
    "    X['gps_height'].fillna(X.groupby(['district_code'])['gps_height'].transform('mean'), inplace=True)\n",
    "    X['gps_height'].fillna(X.groupby(['region_code'])['gps_height'].transform('mean'), inplace=True)\n",
    "    X['gps_height'].fillna(X['gps_height'].mean(), inplace=True)\n",
    "    \n",
    "    # longitude: replace nan values with the mean of the smallest geographical region possible\n",
    "    # Excluding subvillage due to missing values\n",
    "    X['longitude'].fillna(X.groupby(['ward'])['longitude'].transform('mean'), inplace=True)\n",
    "    X['longitude'].fillna(X.groupby(['district_code'])['longitude'].transform('mean'), inplace=True)\n",
    "    X['longitude'].fillna(X.groupby(['region_code'])['longitude'].transform('mean'), inplace=True)\n",
    "    X['longitude'].fillna(X['longitude'].mean(), inplace=True)\n",
    "    \n",
    "    # latitude: replace nan values with the mean of the smallest geographical region possible\n",
    "    # Excluding subvillage due to missing values\n",
    "    X['latitude'].fillna(X.groupby(['ward'])['latitude'].transform('mean'), inplace=True)\n",
    "    X['latitude'].fillna(X.groupby(['district_code'])['latitude'].transform('mean'), inplace=True)\n",
    "    X['latitude'].fillna(X.groupby(['region_code'])['latitude'].transform('mean'), inplace=True)\n",
    "    X['latitude'].fillna(X['latitude'].mean(), inplace=True)\n",
    "    \n",
    "    # population: replace nan values with the mean of the smallest geographical region possible\n",
    "    # Excluding subvillage due to missing values\n",
    "    X['population'].fillna(X.groupby(['ward'])['population'].transform('median'), inplace=True)\n",
    "    X['population'].fillna(X.groupby(['district_code'])['population'].transform('median'), inplace=True)\n",
    "    X['population'].fillna(X.groupby(['region_code'])['population'].transform('median'), inplace=True)\n",
    "    X['population'].fillna(X['population'].median(), inplace=True)\n",
    "    \n",
    "    # population: replace nan values with the mean of the smallest geographical region possible\n",
    "    # Excluding subvillage due to missing values\n",
    "    X['amount_tsh'].fillna(X.groupby(['ward'])['amount_tsh'].transform('median'), inplace=True)\n",
    "    X['amount_tsh'].fillna(X.groupby(['district_code'])['amount_tsh'].transform('median'), inplace=True)\n",
    "    X['amount_tsh'].fillna(X.groupby(['region_code'])['amount_tsh'].transform('median'), inplace=True)\n",
    "    X['amount_tsh'].fillna(X['amount_tsh'].median(), inplace=True)\n",
    "    \n",
    "    # construction_year: replace nan values with the mean of the smallest geographical region possible\n",
    "    # Excluding subvillage due to missing values\n",
    "    X['construction_year'].fillna(X.groupby(['ward'])['construction_year'].transform('median'), inplace=True)\n",
    "    X['construction_year'].fillna(X.groupby(['district_code'])['construction_year'].transform('median'), inplace=True)\n",
    "    X['construction_year'].fillna(X.groupby(['region_code'])['construction_year'].transform('median'), inplace=True)\n",
    "    X['construction_year'].fillna(X['construction_year'].median(), inplace=True)\n",
    "    \n",
    "    # Convert date to datetime\n",
    "    X['date_recorded'] = pd.to_datetime(X['date_recorded'], infer_datetime_format=True)\n",
    "    \n",
    "    # Extract datetime data\n",
    "    X['year_recorded'] = X['date_recorded'].dt.year\n",
    "    \n",
    "    # Drop duplicate or unnecessary features\n",
    "    X = X.drop(columns=['recorded_by', 'quantity_group', 'date_recorded', 'wpt_name', 'num_private', 'subvillage',\n",
    "                       'region_code', 'district_code', 'management_group', 'extraction_type_group', 'extraction_type_class',\n",
    "                       'scheme_name', 'payment', 'water_quality', 'source_type', 'source_class', 'waterpoint_type_group',\n",
    "                       'ward', 'public_meeting', 'permit'])\n",
    "    \n",
    "    # Several categorical features have values showing as '0'\n",
    "    # Replace '0' with nan\n",
    "    categoricals = X.select_dtypes(exclude='number').columns.tolist()\n",
    "    X[categoricals] = X[categoricals].replace('0', np.nan)\n",
    "    \n",
    "    # Convert to lowercase to collapse duplicates\n",
    "    X['waterpoint_type'] = X['waterpoint_type'].str.lower()\n",
    "    X['funder'] = X['funder'].str.lower()\n",
    "    X['basin'] = X['basin'].str.lower()\n",
    "    X['region'] = X['region'].str.lower()\n",
    "    X['source'] = X['source'].str.lower()\n",
    "    X['lga'] = X['lga'].str.lower()\n",
    "    X['management'] = X['management'].str.lower()\n",
    "    X['quantity'] = X['quantity'].str.lower()\n",
    "    X['quality_group'] = X['quality_group'].str.lower()\n",
    "    X['payment_type'] = X['payment_type'].str.lower()\n",
    "    X['extraction_type'] = X['extraction_type'].str.lower()\n",
    "    \n",
    "    # Replace nan values with 'other'\n",
    "    X[\"funder\"].fillna(\"other\", inplace=True)\n",
    "    X[\"scheme_management\"].fillna(\"other\", inplace=True)\n",
    "    X[\"installer\"].fillna(\"other\", inplace=True)\n",
    "    \n",
    "    X = X.replace(np.nan, 'other')\n",
    "    \n",
    "    return X"
   ]
  },
  {
   "cell_type": "code",
   "execution_count": 10,
   "metadata": {},
   "outputs": [],
   "source": [
    "def feature_eng(X):\n",
    "    X = X.copy()\n",
    "    \n",
    "    # Engineered features from data exploration and cleaning notebook\n",
    "    X['amount_tsh_above_1000'] = X['amount_tsh'] > 1000\n",
    "    X['water_quality_good_and_seasonal'] = (X['quality_group'] == 'good') & (X['quantity'] == 'seasonal')\n",
    "    X['water_quality_good_and_dry'] = (X['quality_group'] == 'good') & (X['quantity'] == 'dry')\n",
    "    X['water_quality_good_and_insufficient'] = (X['quality_group'] == 'good') & (X['quantity'] == 'insufficient')\n",
    "    X['water_quality_good_and_enough'] = (X['quality_group'] == 'good') & (X['quantity'] == 'enough')\n",
    "    X['water_quality_good'] = X['quality_group'] == 'good'\n",
    "    X['age'] = 2019 - X['construction_year']\n",
    "    X['years_since_inspection'] = 2019 - X['year_recorded']\n",
    "    \n",
    "    return X"
   ]
  },
  {
   "cell_type": "code",
   "execution_count": 13,
   "metadata": {},
   "outputs": [],
   "source": [
    "def encode(X_train, X_val, X_test):\n",
    "    X_train = X_train.copy()\n",
    "    X_val = X_val.copy()\n",
    "    X_test = X_test.copy()\n",
    "    encoder = ce.OrdinalEncoder()\n",
    "    X_train = encoder.fit_transform(X_train)\n",
    "    X_val = encoder.transform(X_val)\n",
    "    X_test = encoder.transform(X_test)\n",
    "    \n",
    "    return X_train, X_val, X_test"
   ]
  },
  {
   "cell_type": "code",
   "execution_count": 14,
   "metadata": {},
   "outputs": [
    {
     "data": {
      "text/plain": [
       "((45042, 20), (14358, 20), (14358, 20))"
      ]
     },
     "execution_count": 14,
     "metadata": {},
     "output_type": "execute_result"
    }
   ],
   "source": [
    "# run wrangle function\n",
    "X_train = wrangle(X_train)\n",
    "X_val = wrangle(X_val)\n",
    "X_test = wrangle(X_test)\n",
    "\n",
    "X_train.shape, X_val.shape, X_test.shape"
   ]
  },
  {
   "cell_type": "code",
   "execution_count": 15,
   "metadata": {},
   "outputs": [
    {
     "data": {
      "text/plain": [
       "((45042, 28), (14358, 28), (14358, 28))"
      ]
     },
     "execution_count": 15,
     "metadata": {},
     "output_type": "execute_result"
    }
   ],
   "source": [
    "# run feature_eng function\n",
    "X_train = feature_eng(X_train)\n",
    "X_val = feature_eng(X_val)\n",
    "X_test = feature_eng(X_test)\n",
    "\n",
    "X_train.shape, X_val.shape, X_test.shape"
   ]
  },
  {
   "cell_type": "code",
   "execution_count": 16,
   "metadata": {},
   "outputs": [
    {
     "data": {
      "text/plain": [
       "((45042, 28), (14358, 28), (14358, 28))"
      ]
     },
     "execution_count": 16,
     "metadata": {},
     "output_type": "execute_result"
    }
   ],
   "source": [
    "# run encode function\n",
    "X_train, X_val, X_test = encode(X_train, X_val, X_test)\n",
    "\n",
    "X_train.shape, X_val.shape, X_test.shape"
   ]
  },
  {
   "cell_type": "markdown",
   "metadata": {},
   "source": [
    "### Run model"
   ]
  },
  {
   "cell_type": "code",
   "execution_count": 19,
   "metadata": {},
   "outputs": [
    {
     "data": {
      "text/plain": [
       "0.8076333751218833"
      ]
     },
     "execution_count": 19,
     "metadata": {},
     "output_type": "execute_result"
    }
   ],
   "source": [
    "# Set model params\n",
    "model = RandomForestClassifier(criterion='entropy', max_features=4, n_estimators=251, n_jobs=-1, random_state=42)\n",
    "\n",
    "# Fit the model\n",
    "model.fit(X_train, y_train)\n",
    "\n",
    "# Make Predictions\n",
    "y_pred = model.predict(X_val)\n",
    "\n",
    "# Check score\n",
    "score = accuracy_score(y_val, y_pred)\n",
    "score"
   ]
  },
  {
   "cell_type": "markdown",
   "metadata": {},
   "source": [
    "### Plot feature importances"
   ]
  },
  {
   "cell_type": "code",
   "execution_count": 22,
   "metadata": {},
   "outputs": [
    {
     "data": {
      "image/png": "[encoded data removed]",
      "text/plain": [
       "<Figure size 720x1080 with 1 Axes>"
      ]
     },
     "metadata": {
      "needs_background": "light"
     },
     "output_type": "display_data"
    }
   ],
   "source": [
    "importances = pd.Series(model.feature_importances_, X_train.columns)\n",
    "n = len(X_train.columns)\n",
    "top_n = importances.sort_values()[-n:]\n",
    "plt.figure(figsize=(10, 15))\n",
    "top_n.plot.barh(color='gray');"
   ]
  },
  {
   "cell_type": "markdown",
   "metadata": {},
   "source": [
    "### Permutation importances"
   ]
  },
  {
   "cell_type": "code",
   "execution_count": 27,
   "metadata": {
    "scrolled": true
   },
   "outputs": [
    {
     "ename": "ImportError",
     "evalue": "cannot import name 'RandomizedLogisticRegression' from 'sklearn.linear_model' (C:\\Users\\theta\\Anaconda3\\envs\\lambda\\lib\\site-packages\\sklearn\\linear_model\\__init__.py)",
     "output_type": "error",
     "traceback": [
      "\u001b[1;31m---------------------------------------------------------------------------\u001b[0m",
      "\u001b[1;31mImportError\u001b[0m                               Traceback (most recent call last)",
      "\u001b[1;32m<ipython-input-27-f1f772219c6f>\u001b[0m in \u001b[0;36m<module>\u001b[1;34m\u001b[0m\n\u001b[1;32m----> 1\u001b[1;33m \u001b[1;32mimport\u001b[0m \u001b[0meli5\u001b[0m\u001b[1;33m\u001b[0m\u001b[1;33m\u001b[0m\u001b[0m\n\u001b[0m\u001b[0;32m      2\u001b[0m \u001b[1;32mfrom\u001b[0m \u001b[0meli5\u001b[0m\u001b[1;33m.\u001b[0m\u001b[0msklearn\u001b[0m \u001b[1;32mimport\u001b[0m \u001b[0mPermutationImportance\u001b[0m\u001b[1;33m\u001b[0m\u001b[1;33m\u001b[0m\u001b[0m\n\u001b[0;32m      3\u001b[0m \u001b[1;33m\u001b[0m\u001b[0m\n\u001b[0;32m      4\u001b[0m \u001b[0mpermuter\u001b[0m \u001b[1;33m=\u001b[0m \u001b[0mPermutationImportance\u001b[0m\u001b[1;33m(\u001b[0m\u001b[0mmodel\u001b[0m\u001b[1;33m.\u001b[0m\u001b[0mbase\u001b[0m\u001b[1;33m,\u001b[0m \u001b[0mscoring\u001b[0m\u001b[1;33m=\u001b[0m\u001b[1;34m'accuracy'\u001b[0m\u001b[1;33m,\u001b[0m \u001b[0mcv\u001b[0m\u001b[1;33m=\u001b[0m\u001b[1;34m'prefit'\u001b[0m\u001b[1;33m,\u001b[0m \u001b[0mrandom_state\u001b[0m\u001b[1;33m=\u001b[0m\u001b[1;36m42\u001b[0m\u001b[1;33m)\u001b[0m\u001b[1;33m\u001b[0m\u001b[1;33m\u001b[0m\u001b[0m\n\u001b[0;32m      5\u001b[0m \u001b[1;33m\u001b[0m\u001b[0m\n",
      "\u001b[1;32m~\\Anaconda3\\envs\\lambda\\lib\\site-packages\\eli5\\__init__.py\u001b[0m in \u001b[0;36m<module>\u001b[1;34m\u001b[0m\n\u001b[0;32m     11\u001b[0m )\n\u001b[0;32m     12\u001b[0m \u001b[1;32mfrom\u001b[0m \u001b[1;33m.\u001b[0m\u001b[0mexplain\u001b[0m \u001b[1;32mimport\u001b[0m \u001b[0mexplain_weights\u001b[0m\u001b[1;33m,\u001b[0m \u001b[0mexplain_prediction\u001b[0m\u001b[1;33m\u001b[0m\u001b[1;33m\u001b[0m\u001b[0m\n\u001b[1;32m---> 13\u001b[1;33m \u001b[1;32mfrom\u001b[0m \u001b[1;33m.\u001b[0m\u001b[0msklearn\u001b[0m \u001b[1;32mimport\u001b[0m \u001b[0mexplain_weights_sklearn\u001b[0m\u001b[1;33m,\u001b[0m \u001b[0mexplain_prediction_sklearn\u001b[0m\u001b[1;33m\u001b[0m\u001b[1;33m\u001b[0m\u001b[0m\n\u001b[0m\u001b[0;32m     14\u001b[0m \u001b[1;32mfrom\u001b[0m \u001b[1;33m.\u001b[0m\u001b[0mtransform\u001b[0m \u001b[1;32mimport\u001b[0m \u001b[0mtransform_feature_names\u001b[0m\u001b[1;33m\u001b[0m\u001b[1;33m\u001b[0m\u001b[0m\n\u001b[0;32m     15\u001b[0m \u001b[1;33m\u001b[0m\u001b[0m\n",
      "\u001b[1;32m~\\Anaconda3\\envs\\lambda\\lib\\site-packages\\eli5\\sklearn\\__init__.py\u001b[0m in \u001b[0;36m<module>\u001b[1;34m\u001b[0m\n\u001b[0;32m     19\u001b[0m )\n\u001b[0;32m     20\u001b[0m \u001b[1;32mfrom\u001b[0m \u001b[1;33m.\u001b[0m\u001b[0mpermutation_importance\u001b[0m \u001b[1;32mimport\u001b[0m \u001b[0mPermutationImportance\u001b[0m\u001b[1;33m\u001b[0m\u001b[1;33m\u001b[0m\u001b[0m\n\u001b[1;32m---> 21\u001b[1;33m \u001b[1;32mfrom\u001b[0m \u001b[1;33m.\u001b[0m \u001b[1;32mimport\u001b[0m \u001b[0mtransform\u001b[0m \u001b[1;32mas\u001b[0m \u001b[0m_\u001b[0m\u001b[1;33m\u001b[0m\u001b[1;33m\u001b[0m\u001b[0m\n\u001b[0m",
      "\u001b[1;32m~\\Anaconda3\\envs\\lambda\\lib\\site-packages\\eli5\\sklearn\\transform.py\u001b[0m in \u001b[0;36m<module>\u001b[1;34m\u001b[0m\n\u001b[0;32m      5\u001b[0m \u001b[1;32mfrom\u001b[0m \u001b[0msklearn\u001b[0m\u001b[1;33m.\u001b[0m\u001b[0mpipeline\u001b[0m \u001b[1;32mimport\u001b[0m \u001b[0mPipeline\u001b[0m\u001b[1;33m,\u001b[0m \u001b[0mFeatureUnion\u001b[0m  \u001b[1;31m# type: ignore\u001b[0m\u001b[1;33m\u001b[0m\u001b[1;33m\u001b[0m\u001b[0m\n\u001b[0;32m      6\u001b[0m \u001b[1;32mfrom\u001b[0m \u001b[0msklearn\u001b[0m\u001b[1;33m.\u001b[0m\u001b[0mfeature_selection\u001b[0m\u001b[1;33m.\u001b[0m\u001b[0mbase\u001b[0m \u001b[1;32mimport\u001b[0m \u001b[0mSelectorMixin\u001b[0m  \u001b[1;31m# type: ignore\u001b[0m\u001b[1;33m\u001b[0m\u001b[1;33m\u001b[0m\u001b[0m\n\u001b[1;32m----> 7\u001b[1;33m from sklearn.linear_model import (  # type: ignore\n\u001b[0m\u001b[0;32m      8\u001b[0m     \u001b[0mRandomizedLogisticRegression\u001b[0m\u001b[1;33m,\u001b[0m\u001b[1;33m\u001b[0m\u001b[1;33m\u001b[0m\u001b[0m\n\u001b[0;32m      9\u001b[0m     \u001b[0mRandomizedLasso\u001b[0m\u001b[1;33m,\u001b[0m\u001b[1;33m\u001b[0m\u001b[1;33m\u001b[0m\u001b[0m\n",
      "\u001b[1;31mImportError\u001b[0m: cannot import name 'RandomizedLogisticRegression' from 'sklearn.linear_model' (C:\\Users\\theta\\Anaconda3\\envs\\lambda\\lib\\site-packages\\sklearn\\linear_model\\__init__.py)"
     ]
    }
   ],
   "source": [
    "import eli5\n",
    "from eli5.sklearn import PermutationImportance\n",
    "\n",
    "permuter = PermutationImportance(model.base, scoring='accuracy', cv='prefit', random_state=42)\n",
    "\n",
    "permuter.fit(X_val.values, y_val)"
   ]
  },
  {
   "cell_type": "code",
   "execution_count": null,
   "metadata": {},
   "outputs": [],
   "source": []
  },
  {
   "cell_type": "code",
   "execution_count": null,
   "metadata": {},
   "outputs": [],
   "source": []
  }
 ],
 "metadata": {
  "kernelspec": {
   "display_name": "Python [conda env:lambda] *",
   "language": "python",
   "name": "conda-env-lambda-py"
  },
  "language_info": {
   "codemirror_mode": {
    "name": "ipython",
    "version": 3
   },
   "file_extension": ".py",
   "mimetype": "text/x-python",
   "name": "python",
   "nbconvert_exporter": "python",
   "pygments_lexer": "ipython3",
   "version": "3.7.3"
  }
 },
 "nbformat": 4,
 "nbformat_minor": 2
}
